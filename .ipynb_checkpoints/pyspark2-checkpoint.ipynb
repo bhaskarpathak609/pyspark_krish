{
 "cells": [
  {
   "cell_type": "code",
   "execution_count": 1,
   "id": "7bef49e9-feea-4a73-9fbf-792116955b2f",
   "metadata": {},
   "outputs": [
    {
     "ename": "ModuleNotFoundError",
     "evalue": "No module named 'pyspark'",
     "output_type": "error",
     "traceback": [
      "\u001b[1;31m---------------------------------------------------------------------------\u001b[0m",
      "\u001b[1;31mModuleNotFoundError\u001b[0m                       Traceback (most recent call last)",
      "Cell \u001b[1;32mIn[1], line 3\u001b[0m\n\u001b[0;32m      1\u001b[0m \u001b[38;5;66;03m# Starting the spark session \u001b[39;00m\n\u001b[1;32m----> 3\u001b[0m \u001b[38;5;28;01mfrom\u001b[39;00m \u001b[38;5;21;01mpyspark\u001b[39;00m\u001b[38;5;21;01m.\u001b[39;00m\u001b[38;5;21;01msql\u001b[39;00m \u001b[38;5;28;01mimport\u001b[39;00m SparkSession\n\u001b[0;32m      4\u001b[0m spark \u001b[38;5;241m=\u001b[39m SparkSession\u001b[38;5;241m.\u001b[39mbuilder\u001b[38;5;241m.\u001b[39mappName(\u001b[38;5;124m'\u001b[39m\u001b[38;5;124mPractice\u001b[39m\u001b[38;5;124m'\u001b[39m)\u001b[38;5;241m.\u001b[39mgetOrCreate()\n",
      "\u001b[1;31mModuleNotFoundError\u001b[0m: No module named 'pyspark'"
     ]
    }
   ],
   "source": [
    "# Starting the spark session \n",
    "\n",
    "from pyspark.sql import SparkSession\n",
    "spark = SparkSession.builder.appName('Practice').getOrCreate()"
   ]
  },
  {
   "cell_type": "code",
   "execution_count": null,
   "id": "704bef1f-465a-483a-9067-07a96a229b78",
   "metadata": {},
   "outputs": [],
   "source": [
    "# check spark session\n",
    "spark"
   ]
  },
  {
   "cell_type": "code",
   "execution_count": null,
   "id": "3e6c4e0a-a5ee-4e70-b083-4695df1d1d89",
   "metadata": {},
   "outputs": [],
   "source": [
    "# Read the data set\n",
    "df_pyspark = spark.read.option('header','true').csv('test.csv', inferSchema=True)"
   ]
  },
  {
   "cell_type": "code",
   "execution_count": null,
   "id": "4a001d9e-e33d-4419-8920-eb119d35a8bf",
   "metadata": {},
   "outputs": [],
   "source": [
    "# Checking the schema\n",
    "df_pyspark.printSchema()"
   ]
  },
  {
   "cell_type": "code",
   "execution_count": null,
   "id": "75063ca9-d853-4f30-83db-a4487174593a",
   "metadata": {},
   "outputs": [],
   "source": [
    "# Read the data set\n",
    "df_pyspark = spark.read.csv('test.csv', header = True, inferSchema=True)"
   ]
  },
  {
   "cell_type": "code",
   "execution_count": null,
   "id": "927cbf93-04fe-4977-bab7-7887bed4323f",
   "metadata": {},
   "outputs": [],
   "source": [
    "# Looking at the dataset \n",
    "df_pyspark.show()"
   ]
  },
  {
   "cell_type": "code",
   "execution_count": null,
   "id": "a1e64865-e70e-4e2a-b8e7-8036a57d7c32",
   "metadata": {},
   "outputs": [],
   "source": [
    "# Print schema\n",
    "df_pyspark.printSchema()"
   ]
  },
  {
   "cell_type": "code",
   "execution_count": null,
   "id": "6d03d137-f167-4bf0-9dce-66ac8385fb41",
   "metadata": {},
   "outputs": [],
   "source": [
    "# Datatype check \n",
    "type(df_pyspark)"
   ]
  },
  {
   "cell_type": "code",
   "execution_count": null,
   "id": "d6595477-80ef-44de-8981-b2e3e0c4f06e",
   "metadata": {},
   "outputs": [],
   "source": [
    "# Columns name check \n",
    "df_pyspark.columns"
   ]
  },
  {
   "cell_type": "code",
   "execution_count": null,
   "id": "de495bf7-6c74-42d7-808f-d31cb9ef11ae",
   "metadata": {},
   "outputs": [],
   "source": [
    "# top 3 data in dataframe\n",
    "df_pyspark.head(3)"
   ]
  },
  {
   "cell_type": "code",
   "execution_count": null,
   "id": "4bf1f61e-3efe-4a9c-ad50-00c75ffe2248",
   "metadata": {},
   "outputs": [],
   "source": [
    "# looking data in one specific column\n",
    "df_pyspark.select('name').show()"
   ]
  },
  {
   "cell_type": "code",
   "execution_count": null,
   "id": "a267f5c1-807f-4244-90ce-a96b54775220",
   "metadata": {},
   "outputs": [],
   "source": [
    "type(df_pyspark.select('name'))"
   ]
  },
  {
   "cell_type": "code",
   "execution_count": null,
   "id": "081ce5dd-40f9-4984-83e8-c9111905fc64",
   "metadata": {},
   "outputs": [],
   "source": [
    "# Selecting multiple columns \n",
    "df_pyspark.select(['name', 'age']).show()"
   ]
  },
  {
   "cell_type": "code",
   "execution_count": null,
   "id": "274a164d-834a-44d2-adb1-59fd31e8d937",
   "metadata": {},
   "outputs": [],
   "source": [
    "# Checking datatypes\n",
    "df_pyspark.dtypes"
   ]
  },
  {
   "cell_type": "code",
   "execution_count": null,
   "id": "6a8b51de-48bc-4ce0-a024-e08aa5334496",
   "metadata": {},
   "outputs": [],
   "source": [
    "df_pyspark.describe().show()"
   ]
  },
  {
   "cell_type": "code",
   "execution_count": null,
   "id": "2f3e6044-bb1f-4120-b0ac-244dbda3a95c",
   "metadata": {},
   "outputs": [],
   "source": [
    "# Adding one column in given dataset\n",
    "df_pyspark = df_pyspark.withColumn('Exp after 2 years', df_pyspark.experience + 2)"
   ]
  },
  {
   "cell_type": "code",
   "execution_count": null,
   "id": "927461a4-30c2-4228-b410-6f1bec3f4e44",
   "metadata": {},
   "outputs": [],
   "source": [
    "df_pyspark.show()"
   ]
  },
  {
   "cell_type": "code",
   "execution_count": null,
   "id": "1dcfd79b-0a8a-476f-8ed6-94735ea13970",
   "metadata": {},
   "outputs": [],
   "source": [
    "# Droping the column\n",
    "df_pyspark = df_pyspark.drop('Exp after 2 years')"
   ]
  },
  {
   "cell_type": "code",
   "execution_count": null,
   "id": "b72ac3a8-c321-4418-b0f2-32eeb6ce6c27",
   "metadata": {},
   "outputs": [],
   "source": [
    "df_pyspark.show()"
   ]
  },
  {
   "cell_type": "code",
   "execution_count": null,
   "id": "1f91a3d7-3337-4ff7-b9ec-bfef6201fc8c",
   "metadata": {},
   "outputs": [],
   "source": [
    "# Rename a column\n",
    "df_pyspark = df_pyspark.withColumnRenamed('name', 'new_name')"
   ]
  },
  {
   "cell_type": "code",
   "execution_count": null,
   "id": "21c56124-0a55-4cfe-a908-498164051381",
   "metadata": {},
   "outputs": [],
   "source": [
    "df_pyspark.show()"
   ]
  },
  {
   "cell_type": "markdown",
   "id": "ab81532b-b8bb-41b2-9ca8-b52cdb1408ea",
   "metadata": {},
   "source": [
    "### Pyspark video 3\n"
   ]
  },
  {
   "cell_type": "code",
   "execution_count": null,
   "id": "af8490db-5e2d-4fb5-9bed-65c34762d8ec",
   "metadata": {},
   "outputs": [],
   "source": [
    "# Starting the spark session \n",
    "from pyspark.sql import SparkSession\n",
    "spark = SparkSession.builder.appName('practice').getOrCreate()"
   ]
  },
  {
   "cell_type": "code",
   "execution_count": null,
   "id": "5f5b665a-1154-48e0-b822-cde72e99baea",
   "metadata": {},
   "outputs": [],
   "source": [
    "# reading a csv file\n",
    "df_pyspark = spark.read.csv('test.csv', header = True, inferSchema=True)"
   ]
  },
  {
   "cell_type": "code",
   "execution_count": null,
   "id": "5ccadae6-b61a-41b5-89d0-606f9b67da00",
   "metadata": {},
   "outputs": [],
   "source": [
    "df_pyspark.show()"
   ]
  },
  {
   "cell_type": "code",
   "execution_count": null,
   "id": "d1505d33-89af-4a22-861d-6b8c811d62ea",
   "metadata": {},
   "outputs": [],
   "source": [
    "# Dropping null values \n",
    "df_pyspark.na.drop().show()"
   ]
  },
  {
   "cell_type": "code",
   "execution_count": null,
   "id": "cb227e56-0870-40fb-bc92-eff35f383900",
   "metadata": {},
   "outputs": [],
   "source": [
    "df_pyspark.na.drop(thresh = 2).show()"
   ]
  },
  {
   "cell_type": "code",
   "execution_count": null,
   "id": "7d0a9ba0-9e78-4441-a506-fb23180d1ed7",
   "metadata": {},
   "outputs": [],
   "source": [
    "df_pyspark.na.drop(subset = ['experience']).show()"
   ]
  },
  {
   "cell_type": "code",
   "execution_count": null,
   "id": "3a848d17-a599-42c7-afb2-67713e749ef4",
   "metadata": {},
   "outputs": [],
   "source": [
    "# Missing value imputation \n",
    "df_pyspark.na.fill('Missing Values', ['age','experience']).show()"
   ]
  },
  {
   "cell_type": "code",
   "execution_count": null,
   "id": "cf85d77f-43d9-4e80-8359-3931bf0f277d",
   "metadata": {},
   "outputs": [],
   "source": [
    "df_pyspark.show()"
   ]
  },
  {
   "cell_type": "markdown",
   "id": "b8720012-5f99-45dc-a25d-2187943f7df3",
   "metadata": {},
   "source": [
    "#### Filter\n",
    "##### & | ~"
   ]
  },
  {
   "cell_type": "code",
   "execution_count": null,
   "id": "665c495f-02ee-4e09-9608-197b77125032",
   "metadata": {},
   "outputs": [],
   "source": [
    "df_pyspark.filter(\"salary <= 20000\").show()"
   ]
  },
  {
   "cell_type": "code",
   "execution_count": null,
   "id": "0d4ff74f-7ecf-4a84-bc67-c8f98cf66842",
   "metadata": {},
   "outputs": [],
   "source": [
    "df_pyspark.filter(\"salary <= 20000\").select(['name','age']).show()"
   ]
  },
  {
   "cell_type": "code",
   "execution_count": null,
   "id": "7df3e516-98a8-4e83-80dd-bbb5914d9e94",
   "metadata": {},
   "outputs": [],
   "source": [
    "# Multiple filters \n",
    "df_pyspark.filter((df_pyspark['salary'] >= 20000) & \n",
    "                  (df_pyspark['age'] > 20)).show()"
   ]
  },
  {
   "cell_type": "code",
   "execution_count": null,
   "id": "cef55ac0-3821-498e-8ec1-94b4ed433559",
   "metadata": {},
   "outputs": [],
   "source": [
    "from pyspark.sql import SparkSession\n",
    "spark = SparkSession.builder.appName('practive').getOrCreate()"
   ]
  },
  {
   "cell_type": "code",
   "execution_count": null,
   "id": "d3258716-f62d-4a58-af08-ec3784c548ef",
   "metadata": {},
   "outputs": [],
   "source": [
    "df_pyspark = spark.read.csv('test.csv',header = True, inferSchema=True)"
   ]
  },
  {
   "cell_type": "code",
   "execution_count": null,
   "id": "38a60bc8-bded-4a53-ab50-b05b8b90e08b",
   "metadata": {},
   "outputs": [],
   "source": [
    "df_pyspark.show()"
   ]
  },
  {
   "cell_type": "code",
   "execution_count": null,
   "id": "bc4f1869-3b89-4c7e-85eb-71eb14d326c7",
   "metadata": {},
   "outputs": [],
   "source": [
    "df_pyspark.printSchema()"
   ]
  },
  {
   "cell_type": "code",
   "execution_count": null,
   "id": "ad88afbd-c3fd-4ff6-8031-e72a622483e3",
   "metadata": {},
   "outputs": [],
   "source": [
    "# groupBy to find the maximum salary \n",
    "\n",
    "df_pyspark.groupby('name').sum('salary').show()"
   ]
  },
  {
   "cell_type": "code",
   "execution_count": null,
   "id": "d624390a-b8a7-48d8-aa5f-14c154950c0c",
   "metadata": {},
   "outputs": [],
   "source": [
    "# GroupBy department which get the maximum salary\n",
    "\n",
    "df_pyspark.groupby('department').sum('salary').show()"
   ]
  },
  {
   "cell_type": "code",
   "execution_count": null,
   "id": "4184eee7-2e41-4af6-b28c-2caf9d57bc4b",
   "metadata": {},
   "outputs": [],
   "source": [
    "# GroupBy department and count there occurance\n",
    "df_pyspark.groupby('department').count().show()"
   ]
  },
  {
   "cell_type": "code",
   "execution_count": null,
   "id": "ea544241-5b18-4a1a-8086-299d3aead8ca",
   "metadata": {},
   "outputs": [],
   "source": [
    "df_pyspark.agg({'salary':'sum'}).show()"
   ]
  },
  {
   "cell_type": "code",
   "execution_count": null,
   "id": "ad021a62-f7de-44aa-abb7-52defc61f858",
   "metadata": {},
   "outputs": [],
   "source": [
    "df_pyspark.groupby('department').agg({'salary':'sum'}).show()"
   ]
  },
  {
   "cell_type": "code",
   "execution_count": null,
   "id": "825b8c1a-652f-425a-968b-2f383e0002b7",
   "metadata": {},
   "outputs": [],
   "source": [
    "df_pyspark.groupby('name').sum('salary').show()"
   ]
  },
  {
   "cell_type": "code",
   "execution_count": null,
   "id": "14a48380-4056-4093-8057-64e9b5de622d",
   "metadata": {},
   "outputs": [],
   "source": []
  }
 ],
 "metadata": {
  "kernelspec": {
   "display_name": "Python 3 (ipykernel)",
   "language": "python",
   "name": "python3"
  },
  "language_info": {
   "codemirror_mode": {
    "name": "ipython",
    "version": 3
   },
   "file_extension": ".py",
   "mimetype": "text/x-python",
   "name": "python",
   "nbconvert_exporter": "python",
   "pygments_lexer": "ipython3",
   "version": "3.11.7"
  }
 },
 "nbformat": 4,
 "nbformat_minor": 5
}
