{
 "cells": [
  {
   "cell_type": "code",
   "execution_count": 2,
   "id": "162af1e3-11f3-4afa-8c52-cafe144fb778",
   "metadata": {},
   "outputs": [
    {
     "name": "stdin",
     "output_type": "stream",
     "text": [
      "enter you email:  bhaskarpathak609@gmail.com\n",
      "enter your password:  hello\n"
     ]
    }
   ],
   "source": []
  },
  {
   "cell_type": "code",
   "execution_count": 14,
   "id": "37e3e4ee-2577-4509-a853-d5864e8cb230",
   "metadata": {},
   "outputs": [
    {
     "name": "stdin",
     "output_type": "stream",
     "text": [
      "enter you email:  bhaskar@gmail.com\n",
      "enter your password:  123\n"
     ]
    },
    {
     "name": "stdout",
     "output_type": "stream",
     "text": [
      "enter correct password please\n"
     ]
    },
    {
     "name": "stdin",
     "output_type": "stream",
     "text": [
      "please give correct password:  1234\n"
     ]
    },
    {
     "name": "stdout",
     "output_type": "stream",
     "text": [
      "finally correct\n"
     ]
    }
   ],
   "source": [
    "email = input(\"enter you email: \")\n",
    "if '@' in email:\n",
    "    password = input(\"enter your password: \")\n",
    "\n",
    "    if email == 'bhaskar@gmail.com' and password == '1234':\n",
    "        print(\"welcome\")\n",
    "    elif email == 'bhaskar@gmail.com' and password != '1234':\n",
    "        print(\"enter correct password please\")\n",
    "        password = input(\"please give correct password: \")\n",
    "    \n",
    "        if password == '1234':\n",
    "            print(\"finally correct\")\n",
    "        else:\n",
    "            print(\"incorrect\")\n",
    "        \n",
    "    else:\n",
    "        print(\"Invalid credentials\")\n",
    "\n",
    "else:\n",
    "    print(\"email is wrong, enter valid email\")\n",
    "    \n"
   ]
  },
  {
   "cell_type": "code",
   "execution_count": 20,
   "id": "a9113b62-7f74-4858-9960-09c2fecc4ced",
   "metadata": {},
   "outputs": [
    {
     "name": "stdin",
     "output_type": "stream",
     "text": [
      "enter a number 3\n"
     ]
    },
    {
     "name": "stdout",
     "output_type": "stream",
     "text": [
      "1\n",
      "2\n",
      "3\n"
     ]
    }
   ],
   "source": [
    "n = int(input(\"enter a number\"))\n",
    "\n",
    "for i in range(0,n):\n",
    "    print(i+1)"
   ]
  },
  {
   "cell_type": "code",
   "execution_count": null,
   "id": "60afc383-4f4a-420c-9015-b5573c1fb5a2",
   "metadata": {},
   "outputs": [],
   "source": [
    "email = abc@gmail.com\n",
    "password = '1234'\n",
    "\n",
    "if email == "
   ]
  }
 ],
 "metadata": {
  "kernelspec": {
   "display_name": "Python 3 (ipykernel)",
   "language": "python",
   "name": "python3"
  },
  "language_info": {
   "codemirror_mode": {
    "name": "ipython",
    "version": 3
   },
   "file_extension": ".py",
   "mimetype": "text/x-python",
   "name": "python",
   "nbconvert_exporter": "python",
   "pygments_lexer": "ipython3",
   "version": "3.11.7"
  }
 },
 "nbformat": 4,
 "nbformat_minor": 5
}
